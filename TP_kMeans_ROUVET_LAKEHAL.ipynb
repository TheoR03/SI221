{
 "cells": [
  {
   "cell_type": "code",
   "execution_count": 24,
   "metadata": {
    "colab": {
     "base_uri": "https://localhost:8080/",
     "height": 127
    },
    "colab_type": "code",
    "id": "vvi7n4PUgUCg",
    "outputId": "814a9cbe-a19a-414f-a25b-0188cee4c5a8"
   },
   "outputs": [
    {
     "name": "stdout",
     "output_type": "stream",
     "text": [
      "Go to this URL in a browser: https://accounts.google.com/o/oauth2/auth?client_id=947318989803-6bn6qk8qdgf4n4g3pfee6491hc0brc4i.apps.googleusercontent.com&redirect_uri=urn%3aietf%3awg%3aoauth%3a2.0%3aoob&response_type=code&scope=email%20https%3a%2f%2fwww.googleapis.com%2fauth%2fdocs.test%20https%3a%2f%2fwww.googleapis.com%2fauth%2fdrive%20https%3a%2f%2fwww.googleapis.com%2fauth%2fdrive.photos.readonly%20https%3a%2f%2fwww.googleapis.com%2fauth%2fpeopleapi.readonly\n",
      "\n",
      "Enter your authorization code:\n",
      "··········\n",
      "Mounted at /content/drive\n"
     ]
    }
   ],
   "source": [
    "!cp drive/My Drive/Colab Notebooks/Untitled.ipynb ./"
   ]
  },
  {
   "cell_type": "markdown",
   "metadata": {
    "colab_type": "text",
    "id": "-LBCS6H5eGrs"
   },
   "source": [
    "This notebook was made by Wassim Lakehal and Théo Rouvet. We start by importing relevant packages."
   ]
  },
  {
   "cell_type": "code",
   "execution_count": 0,
   "metadata": {
    "colab": {},
    "colab_type": "code",
    "id": "-YcoX_E3cdiI"
   },
   "outputs": [],
   "source": [
    "import numpy as np\n",
    "from random import sample\n",
    "import matplotlib.pyplot as plt"
   ]
  },
  {
   "cell_type": "markdown",
   "metadata": {
    "colab_type": "text",
    "id": "u-46OTEu79T-"
   },
   "source": [
    "## **Exercise 1**\n",
    "\n",
    "We consider a data set $ \\{x_i, y_i \\}_{i=1}^{300}$ so that $y_i$ is uniformly generated on $\\{0,1,2\\}$, $x_i \\sim N(\\mu, \\sigma^2I)$ , with $\\sigma^2=0.05$ and $x_i \\in \\mathbb{R}^2$, where:\n",
    "* $\\mu = (-1,1)$, if $y_i=0$\n",
    "* $\\mu = (1,1)$, if $y_i=1$\n",
    "* $\\mu = (0,1)$, if $y_i=2$\n",
    "\n",
    "### **Question 1**\n",
    "\n",
    "We first implement a generating function for this data set."
   ]
  },
  {
   "cell_type": "code",
   "execution_count": 0,
   "metadata": {
    "colab": {},
    "colab_type": "code",
    "id": "x7qIIcUx8Lxu"
   },
   "outputs": [],
   "source": [
    "def generator(sigma2 = 0.05, n = 300): # Let us generate the dataset\n",
    "\n",
    "  X = np.zeros((n,2))\n",
    "  y = np.zeros(n)\n",
    "\n",
    "  range_generated = np.arange(n)\n",
    "\n",
    "  for i in range_generated[:n//3] :\n",
    "    x = np.sqrt(sigma2) * np.random.randn(2)\n",
    "\n",
    "    x[0] -= 1 # \n",
    "    x[1] += 1 # We center in (-1, 1)\n",
    "    X[i] = x\n",
    "    y[i] = 0\n",
    "\n",
    "  for i in range_generated[n//3:2*n//3] :\n",
    "    x = np.sqrt(sigma2) * np.random.randn(2)\n",
    "\n",
    "    x[0] += 1 # \n",
    "    x[1] += 1 # We center in (1,1)\n",
    "    X[i] = x\n",
    "    y[i] = 1\n",
    "\n",
    "  for i in range_generated[2*n//3:]:\n",
    "    x = np.sqrt(sigma2) * np.random.randn(2)\n",
    "\n",
    "    x[0] += 0 #\n",
    "    x[1] += 1 # We center in (0,1)\n",
    "    X[i] = x\n",
    "    y[i] = 2\n",
    "  \n",
    "  return X, y "
   ]
  },
  {
   "cell_type": "markdown",
   "metadata": {
    "colab_type": "text",
    "id": "wQORz-Fckxbz"
   },
   "source": [
    "After doing so, we wish to implement $k$-means, with $k=3$ and the centroids being initialised each in a different gaussian."
   ]
  },
  {
   "cell_type": "code",
   "execution_count": 0,
   "metadata": {
    "colab": {},
    "colab_type": "code",
    "id": "1sB6ks3cWcG2"
   },
   "outputs": [],
   "source": [
    "def three_means(X, epsilon=10**(-3)):\n",
    "  n, p = X.shape\n",
    "  \n",
    "  r1, r2, r3 = np.random.randint(0, n//3), np.random.randint(n//3, 2*n//3), np.random.randint(2*n//3, n) # random index in each set\n",
    "  C = [X[r1], X[r2], X[r3]] # the centroids are random elements of each set\n",
    "  C = np.asarray(C)\n",
    "  cost = 0\n",
    "  previous_cost = epsilon + 1\n",
    "  while abs(previous_cost - cost) > epsilon:\n",
    "    X_clusters = [[], [], []]\n",
    "\n",
    "    previous_cost = cost\n",
    "    cost = 0\n",
    "\n",
    "    for x in X:\n",
    "      index = np.argmin(np.linalg.norm(x - C, 2, axis=-1)**2)\n",
    "      X_clusters[index].append(x)\n",
    "\n",
    "    for i in range(len(X_clusters)):\n",
    "      cluster_array = np.array(X_clusters[i])\n",
    "      C[i] = np.mean(cluster_array, axis = 0)\n",
    "      cost += np.linalg.norm(cluster_array - C[i], 2)**2\n",
    "\n",
    "    return X_clusters, C"
   ]
  },
  {
   "cell_type": "markdown",
   "metadata": {
    "colab_type": "text",
    "id": "wi8Y1WNMlCYN"
   },
   "source": [
    "We can then plot the resulting clustering thanks to $k$-means."
   ]
  },
  {
   "cell_type": "code",
   "execution_count": 0,
   "metadata": {
    "colab": {
     "base_uri": "https://localhost:8080/",
     "height": 281
    },
    "colab_type": "code",
    "id": "o_co751vc7Km",
    "outputId": "0a84f0f1-a659-43f9-f878-75947f733cd5"
   },
   "outputs": [
    {
     "data": {
      "image/png": "[encoded data removed]",
      "text/plain": [
       "<Figure size 432x288 with 1 Axes>"
      ]
     },
     "metadata": {
      "tags": []
     },
     "output_type": "display_data"
    }
   ],
   "source": [
    "X, _ = generator()\n",
    "X_clusters, C = three_means(X, epsilon = 10**(-5))\n",
    "\n",
    "plt.figure()\n",
    "for i in range(len(X_clusters)):\n",
    "  cluster = np.asarray(X_clusters[i])\n",
    "  plt.scatter(cluster[:,0], cluster[:,1], marker = '.')\n",
    "  plt.scatter(C[i][0], C[i][1], c='red', marker='o')\n",
    "plt.axis('equal')\n",
    "plt.title(\"Clusterised data set\")\n",
    "plt.show()"
   ]
  },
  {
   "cell_type": "markdown",
   "metadata": {
    "colab_type": "text",
    "id": "f0nvuSEdlTKP"
   },
   "source": [
    "The clustering seems quite good so far, which is not surprising giving that we initialised in an advantageous way."
   ]
  },
  {
   "cell_type": "markdown",
   "metadata": {
    "colab_type": "text",
    "id": "jnWiNkFDhMjV"
   },
   "source": [
    "### **Question 2**\n",
    "\n",
    "We then want to plot the associated **cost function**, and study its convergence for a certain stopping criterion, defined by a precision threshold $\\epsilon$."
   ]
  },
  {
   "cell_type": "code",
   "execution_count": 0,
   "metadata": {
    "colab": {},
    "colab_type": "code",
    "id": "V7asAwo9hNxn"
   },
   "outputs": [],
   "source": [
    "def cost_three_means(X, epsilon=1e-5):\n",
    "  n, p = X.shape\n",
    "  \n",
    "  r1, r2, r3 = np.random.randint(0, n//3), np.random.randint(n//3, 2*n//3), np.random.randint(2*n//3, n) # random index in each set\n",
    "  C = [X[r1], X[r2], X[r3]] # the centroids are random elements of each set\n",
    "  C = np.asarray(C)\n",
    "\n",
    "  cost = 0\n",
    "  previous_cost = epsilon + 1\n",
    "  cost_list = []\n",
    "\n",
    "  while abs(previous_cost - cost) > epsilon:\n",
    "    X_clusters = [[], [], []]\n",
    "\n",
    "    previous_cost = cost\n",
    "    cost = 0\n",
    "\n",
    "    for x in X:\n",
    "      index = np.argmin(np.linalg.norm(x - C, 2, axis=-1)**2)\n",
    "      X_clusters[index].append(x)\n",
    "\n",
    "    for i in range(len(X_clusters)):\n",
    "      cluster_array = np.array(X_clusters[i])\n",
    "      C[i] = np.mean(cluster_array, axis = 0)\n",
    "      cost += np.linalg.norm(cluster_array - C[i], 2)**2\n",
    "\n",
    "    cost_list.append(cost)\n",
    "\n",
    "  return cost_list"
   ]
  },
  {
   "cell_type": "markdown",
   "metadata": {
    "colab_type": "text",
    "id": "cZiXujgt0Ykp"
   },
   "source": [
    "We can then again plot this function to get a quick look at its shape."
   ]
  },
  {
   "cell_type": "code",
   "execution_count": 0,
   "metadata": {
    "colab": {
     "base_uri": "https://localhost:8080/",
     "height": 282
    },
    "colab_type": "code",
    "id": "GDGV9lIqhtIN",
    "outputId": "320f42d4-e21d-43d7-c785-4ab0ca22dc4c"
   },
   "outputs": [
    {
     "data": {
      "image/png": "[encoded data removed]",
      "text/plain": [
       "<Figure size 432x288 with 1 Axes>"
      ]
     },
     "metadata": {
      "tags": []
     },
     "output_type": "display_data"
    }
   ],
   "source": [
    "X, _ = generator()\n",
    "cost_list = cost_three_means(X, epsilon = 10**(-7))\n",
    "plt.plot(cost_list)\n",
    "plt.title(\"Cost as a function of the number of iterations $t$\")\n",
    "plt.show()"
   ]
  },
  {
   "cell_type": "markdown",
   "metadata": {
    "colab_type": "text",
    "id": "4yLjwOgz0wRz"
   },
   "source": [
    "After having done so, we wish to understand the **distribution of the number of iterations until convergence**. We then plot the histogram of the $T$'s."
   ]
  },
  {
   "cell_type": "code",
   "execution_count": 0,
   "metadata": {
    "colab": {
     "base_uri": "https://localhost:8080/",
     "height": 282
    },
    "colab_type": "code",
    "id": "vam36SyLRtM2",
    "outputId": "d253f25f-912f-421a-b0c9-6e4f599ae407"
   },
   "outputs": [
    {
     "data": {
      "image/png": "[encoded data removed]",
      "text/plain": [
       "<Figure size 432x288 with 1 Axes>"
      ]
     },
     "metadata": {
      "tags": []
     },
     "output_type": "display_data"
    }
   ],
   "source": [
    "nb_tests = 50\n",
    "iterations = np.zeros(nb_tests)\n",
    "\n",
    "for i in range(nb_tests):\n",
    "  cost_list = cost_three_means(X, epsilon = 10**(-3))\n",
    "  iterations[i] = len(cost_list)\n",
    "\n",
    "bins = np.arange(0, np.max(iterations) + 1.5) - 0.5\n",
    "plt.hist(iterations, bins)\n",
    "plt.title(\"Distribution of $T$\")\n",
    "plt.show()"
   ]
  },
  {
   "cell_type": "markdown",
   "metadata": {
    "colab_type": "text",
    "id": "bimTID_q1Oli"
   },
   "source": [
    "The value of $T$ seems to be **between $2$ and $6$ almost every time**. We can see that its distribution has some form of Gaussian shape, with very **low dispersion**. This suggests the algorithm produces similar results at a similar speed so far, making it extremely stable.\n",
    "\n",
    "It would then be interesting to remove the constraint on the initialisation of the centroids, to check whether this is still true. This is what we will find out in the next question."
   ]
  },
  {
   "cell_type": "markdown",
   "metadata": {
    "colab_type": "text",
    "id": "pwRTz2GUUUaO"
   },
   "source": [
    "### **Question 3**\n",
    "\n",
    "We now initialise the centroids in a perfectly random fashion (just making sure we do not pick the same point multiple times)."
   ]
  },
  {
   "cell_type": "code",
   "execution_count": 0,
   "metadata": {
    "colab": {},
    "colab_type": "code",
    "id": "m-ajYo5sUTn0"
   },
   "outputs": [],
   "source": [
    "def cost_three_means(X, epsilon=1e-6):\n",
    "  n, p = X.shape\n",
    "  \n",
    "  [r1, r2, r3] = sample(range(n),3) # random index in each set\n",
    "  C = [X[r1], X[r2], X[r3]] # the centroids are random elements of each set\n",
    "\n",
    "  C = np.asarray(C)\n",
    "\n",
    "  cost = 0\n",
    "  previous_cost = epsilon + 1\n",
    "  cost_list = []\n",
    "\n",
    "  while abs(previous_cost - cost) > epsilon:\n",
    "    X_clusters = [[], [], []]\n",
    "\n",
    "    previous_cost = cost\n",
    "    cost = 0\n",
    "\n",
    "    for x in X:\n",
    "      index = np.argmin(np.linalg.norm(x - C, 2, axis=-1)**2)\n",
    "      X_clusters[index].append(x)\n",
    "\n",
    "    for i in range(len(X_clusters)):\n",
    "      cluster_array = np.array(X_clusters[i])\n",
    "\n",
    "      C[i] = np.mean(cluster_array, axis = 0)\n",
    "\n",
    "      cost += np.linalg.norm(cluster_array - C[i], 2)**2\n",
    "    \n",
    "    cost_list.append(cost)\n",
    "\n",
    "  return X_clusters, cost_list, C"
   ]
  },
  {
   "cell_type": "markdown",
   "metadata": {
    "colab_type": "text",
    "id": "JN9RVkoq_WB4"
   },
   "source": [
    "We want to plot the associated **cost function**, and study its convergence for a certain stopping criterion, defined by a precision threshold $\\epsilon$."
   ]
  },
  {
   "cell_type": "code",
   "execution_count": 0,
   "metadata": {
    "colab": {
     "base_uri": "https://localhost:8080/",
     "height": 282
    },
    "colab_type": "code",
    "id": "9Ftp4qrx8dcG",
    "outputId": "8f051d65-8b87-41f2-f488-400dc1cbd84b"
   },
   "outputs": [
    {
     "data": {
      "image/png": "[encoded data removed]",
      "text/plain": [
       "<Figure size 432x288 with 1 Axes>"
      ]
     },
     "metadata": {
      "tags": []
     },
     "output_type": "display_data"
    }
   ],
   "source": [
    "plt.plot(cost_list)\n",
    "plt.title(\"Cost as a function of the number of iterations $t$\")\n",
    "plt.show()"
   ]
  },
  {
   "cell_type": "markdown",
   "metadata": {
    "colab_type": "text",
    "id": "nJWjavOp4cdI"
   },
   "source": [
    "We now wish to plot the number of iterations until convergence with this new data set, and compare it with the former result."
   ]
  },
  {
   "cell_type": "code",
   "execution_count": 0,
   "metadata": {
    "colab": {
     "base_uri": "https://localhost:8080/",
     "height": 282
    },
    "colab_type": "code",
    "id": "FtRrHRFVV-bM",
    "outputId": "0e4ab14e-aa06-4a8f-e28b-9d7f36e161fd"
   },
   "outputs": [
    {
     "data": {
      "image/png": "[encoded data removed]",
      "text/plain": [
       "<Figure size 432x288 with 1 Axes>"
      ]
     },
     "metadata": {
      "tags": []
     },
     "output_type": "display_data"
    }
   ],
   "source": [
    "nb_tests = 50\n",
    "iterations = np.zeros(nb_tests)\n",
    "\n",
    "for j in range(nb_tests):\n",
    "  X, _ = generator()\n",
    "  X_clusters, cost_list, C = cost_three_means(X, epsilon = 10**(-6))\n",
    "  iterations[j] = len(cost_list)\n",
    "bins = np.arange(0, np.max(iterations) + 1.5) - 0.5\n",
    "plt.hist(iterations, bins)\n",
    "plt.title(\"Distribution of $T$\")\n",
    "plt.show()"
   ]
  },
  {
   "cell_type": "markdown",
   "metadata": {
    "colab_type": "text",
    "id": "b6vDABUK5e5f"
   },
   "source": [
    "The distribution seem to have more dispersion than before, hence we can deduce that **initialisation has a strong impact on the value of $T$** (which makes sense)."
   ]
  },
  {
   "cell_type": "markdown",
   "metadata": {
    "colab_type": "text",
    "id": "dHPZ8oG4a4fq"
   },
   "source": [
    "### **Question 4**\n",
    "\n",
    "We now consider $\\sigma^2 \\in \\{0.1, 0.2, 0.3\\}$ for the data set generation, and we rerun the $k$-means on the new data sets (that have more dispersion, which may lead the gaussians to **overlap**, creating confusion)."
   ]
  },
  {
   "cell_type": "code",
   "execution_count": 0,
   "metadata": {
    "colab": {
     "base_uri": "https://localhost:8080/",
     "height": 821
    },
    "colab_type": "code",
    "id": "76lVMdmIa3-y",
    "outputId": "230cd635-3462-46d0-da25-944334a5fe90"
   },
   "outputs": [
    {
     "data": {
      "image/png": "[encoded data removed]",
      "text/plain": [
       "<Figure size 432x288 with 1 Axes>"
      ]
     },
     "metadata": {
      "tags": []
     },
     "output_type": "display_data"
    },
    {
     "data": {
      "image/png": "[encoded data removed]",
      "text/plain": [
       "<Figure size 432x288 with 1 Axes>"
      ]
     },
     "metadata": {
      "tags": []
     },
     "output_type": "display_data"
    },
    {
     "data": {
      "image/png": "[encoded data removed]",
      "text/plain": [
       "<Figure size 432x288 with 1 Axes>"
      ]
     },
     "metadata": {
      "tags": []
     },
     "output_type": "display_data"
    }
   ],
   "source": [
    "sigma = [0.1, 0.2, 0.3]\n",
    "\n",
    "for s in sigma:\n",
    "  nb_tests = 50\n",
    "  iterations = np.zeros(nb_tests)\n",
    "  plt.title(\"Distribution of $T$ when $\\sigma^2 =$\" + str(s))\n",
    "  for j in range(nb_tests):\n",
    "    X, _ =  generator(s, n = 300)\n",
    "    X_clusters, cost_list, C = cost_three_means(X, epsilon = 10**(-6))\n",
    "    iterations[j] = len(cost_list)\n",
    "  bins = np.arange(0, np.max(iterations) + 1.5) - 0.5\n",
    "  plt.hist(iterations, bins)\n",
    "  plt.show()"
   ]
  },
  {
   "cell_type": "markdown",
   "metadata": {
    "colab_type": "text",
    "id": "uq5FlDet_S5B"
   },
   "source": [
    "Therefore, it is clear enough that higher standard deviation means overlapping hence leading to more dispersion in the distribution of $T$. The algorithm is therefore sensitive to both **initialisation and dispersion of the data set**."
   ]
  },
  {
   "cell_type": "markdown",
   "metadata": {
    "colab_type": "text",
    "id": "k0gk2AjWdri4"
   },
   "source": [
    "### **Question 5**\n",
    "\n",
    "Let $c$ be the cost function such that $c(y) = \\sum_{k=1}^K c_k(y_k)$ where $c_k(y) = \\sum_{i \\in \\mathcal{C}_k} ||x_i-y_k||^2_2$ and $y = (y_1, y_2, ..., y_n) \\in \\mathbb{R}^n$ is the $K$-tuple of the $K$ centroids.\n",
    "\n",
    "Let's now show that when we $c$ is minimized over $\\mathbb{R}^n$, then $\\forall k, y_k = \\mu_k$\n",
    "\n",
    "So, first, let's suppose that $c$ is minimized over $\\mathbb{R}^n$. We can see that $c$ is differentiable as the sum of $K$ differentiable functions and:\n",
    "\n",
    "$\\nabla c(y) = \\sum_{k=1}^K \\nabla c_k(y_k) = \\sum_{k=1}^K \\sum_{i \\in \\mathcal{C}_k}  2 (y_k-x_i) = 2 \\sum_{k=1}^K (y_k \\cdot |\\mathcal{C}_k| - \\sum_{i \\in \\mathcal{C}_k}  x_i)$\n",
    "\n",
    "As $c$ is minimized, $\\nabla c(y) = 0$, i.e. $\\sum_{k=1}^K (y_k \\cdot |\\mathcal{C}_k| - \\sum_{i \\in \\mathcal{C}_k}  x_i) = 0$ \n",
    "\n",
    "But, by taking $y$ as the $K$-tuple of the means of the clusters, i.e. $\\forall k, y_k=\\frac{\\sum_{i \\in \\mathcal{C}_k}  x_i}{|\\mathcal{C}_k|}$, we get $\\nabla c(y) = 0$; this is a local minimum of $c$.\n",
    "\n",
    "Yet, we know that $c$ is a continue and convex function as it is the sum of $K$ continue and convex functions. Thus, a local minimum of $c$ is necessarily a global minimum of $c$, i.e. the  centroids  that  minimizethe  cost  are  indeed  the  means  of  their  cluster.\n",
    "\n",
    "### **Question 6**\n",
    "\n",
    "a) We repeat question 3, using the same algorithm but using a $L^1$-norm instead of $L^2$"
   ]
  },
  {
   "cell_type": "code",
   "execution_count": 0,
   "metadata": {
    "colab": {},
    "colab_type": "code",
    "id": "6-Ud44pWdzAT"
   },
   "outputs": [],
   "source": [
    "def cost_three_means(X, epsilon=1e-7):\n",
    "  n, p = X.shape\n",
    "  \n",
    "  [r1, r2, r3] = sample(range(n),3) # random index in each set\n",
    "  C = [X[r1], X[r2], X[r3]] # the centroids are random elements of each set\n",
    "  C = np.asarray(C)\n",
    "  cost = 0\n",
    "  previous_cost = epsilon + 1\n",
    "  cost_list = []\n",
    "\n",
    "  while abs(previous_cost - cost) > epsilon:\n",
    "    X_clusters = [[], [], []]\n",
    "\n",
    "    previous_cost = cost\n",
    "    cost = 0\n",
    "\n",
    "    for x in X:\n",
    "      index = np.argmin(np.linalg.norm(x - C, 2, axis=-1)**2)\n",
    "      X_clusters[index].append(x)\n",
    "\n",
    "    for i in range(len(X_clusters)):\n",
    "      cluster_array = np.array(X_clusters[i])\n",
    "      C[i] = np.mean(cluster_array, axis = 0)\n",
    "      cost += np.linalg.norm(cluster_array - C[i], 1)**2\n",
    "    cost_list.append(cost)\n",
    "\n",
    "  return X_clusters, cost_list, C"
   ]
  },
  {
   "cell_type": "markdown",
   "metadata": {
    "colab_type": "text",
    "id": "1eOszRV6bxWf"
   },
   "source": [
    "We want to plot the associated **cost function**, and study its convergence for a certain stopping criterion, defined by a precision threshold $\\epsilon$."
   ]
  },
  {
   "cell_type": "code",
   "execution_count": 0,
   "metadata": {
    "colab": {
     "base_uri": "https://localhost:8080/",
     "height": 282
    },
    "colab_type": "code",
    "id": "-moTcdjtbW4a",
    "outputId": "be4bc2a1-cb61-4431-cce6-81a3261a9920"
   },
   "outputs": [
    {
     "data": {
      "image/png": "[encoded data removed]",
      "text/plain": [
       "<Figure size 432x288 with 1 Axes>"
      ]
     },
     "metadata": {
      "tags": []
     },
     "output_type": "display_data"
    }
   ],
   "source": [
    "X, _ = generator()\n",
    "X_clusters, cost_list, C = cost_three_means(X, epsilon = 10**(-6))\n",
    "\n",
    "plt.plot(cost_list)\n",
    "plt.title(\"Cost as a function of the number of iterations $t$\")\n",
    "plt.show()"
   ]
  },
  {
   "cell_type": "code",
   "execution_count": 0,
   "metadata": {
    "colab": {
     "base_uri": "https://localhost:8080/",
     "height": 282
    },
    "colab_type": "code",
    "id": "e0bH2BT_eDdP",
    "outputId": "6063afc1-e150-43d8-dd9f-7fb91d6b464e"
   },
   "outputs": [
    {
     "data": {
      "image/png": "[encoded data removed]",
      "text/plain": [
       "<Figure size 432x288 with 1 Axes>"
      ]
     },
     "metadata": {
      "tags": []
     },
     "output_type": "display_data"
    }
   ],
   "source": [
    "nb_tests = 50\n",
    "iterations = np.zeros(nb_tests)\n",
    "\n",
    "for j in range(nb_tests):\n",
    "  X, _ = generator()\n",
    "  X_clusters, cost_list, C = cost_three_means(X, epsilon = 10**(-6))\n",
    "  iterations[j] = len(cost_list)\n",
    "bins = np.arange(0, np.max(iterations) + 1.5) - 0.5\n",
    "plt.hist(iterations, bins)\n",
    "plt.title(\"Distribution of $T$\")\n",
    "plt.show()"
   ]
  },
  {
   "cell_type": "markdown",
   "metadata": {
    "colab_type": "text",
    "id": "85vGXT-te99x"
   },
   "source": [
    "b) We now use the same algorithm using the median instead of the mean."
   ]
  },
  {
   "cell_type": "code",
   "execution_count": 0,
   "metadata": {
    "colab": {},
    "colab_type": "code",
    "id": "TmfSr8G3e9N7"
   },
   "outputs": [],
   "source": [
    "def cost_three_medians(X, epsilon=10**(-3)):\n",
    "  n, p = X.shape\n",
    "  \n",
    "  [r1, r2, r3] = sample(range(n),3) # random index in each set\n",
    "  C = [X[r1], X[r2], X[r3]] # the centroids are random elements of each set\n",
    "  C = np.asarray(C)\n",
    "  cost = 0\n",
    "  previous_cost = epsilon + 1\n",
    "  cost_list = []\n",
    "\n",
    "  while abs(previous_cost - cost) > epsilon:\n",
    "    X_clusters = [[], [], []]\n",
    "\n",
    "    previous_cost = cost\n",
    "    cost = 0\n",
    "\n",
    "    for x in X:\n",
    "      index = np.argmin(np.linalg.norm(x - C, 2, axis=-1)**2)\n",
    "      X_clusters[index].append(x)\n",
    "\n",
    "    for i in range(len(X_clusters)):\n",
    "      cluster_array = np.array(X_clusters[i])\n",
    "      C[i] = np.median(cluster_array, axis = 0)\n",
    "      cost += np.linalg.norm(cluster_array - C[i], 1)**2\n",
    "    cost_list.append(cost)\n",
    "\n",
    "  return X_clusters, cost_list, C"
   ]
  },
  {
   "cell_type": "markdown",
   "metadata": {
    "colab_type": "text",
    "id": "yld9RQLLfgly"
   },
   "source": [
    "We want to plot the associated **cost function**, and study its convergence for a certain stopping criterion, defined by a precision threshold $\\epsilon$."
   ]
  },
  {
   "cell_type": "code",
   "execution_count": 0,
   "metadata": {
    "colab": {
     "base_uri": "https://localhost:8080/",
     "height": 282
    },
    "colab_type": "code",
    "id": "NpSI2LaPfX2e",
    "outputId": "0a41c254-9eb9-4978-99ee-a742df577809"
   },
   "outputs": [
    {
     "data": {
      "image/png": "[encoded data removed]",
      "text/plain": [
       "<Figure size 432x288 with 1 Axes>"
      ]
     },
     "metadata": {
      "tags": []
     },
     "output_type": "display_data"
    }
   ],
   "source": [
    "X, _ = generator()\n",
    "X_clusters, cost_list, C = cost_three_medians(X, epsilon = 10**(-6))\n",
    "\n",
    "plt.plot(cost_list)\n",
    "plt.title(\"Cost as a function of the number of iterations $t$\")\n",
    "plt.show()"
   ]
  },
  {
   "cell_type": "code",
   "execution_count": 0,
   "metadata": {
    "colab": {
     "base_uri": "https://localhost:8080/",
     "height": 282
    },
    "colab_type": "code",
    "id": "7OB_RfhkfKnq",
    "outputId": "b00b1105-5adf-4a64-9be4-93840d64d441"
   },
   "outputs": [
    {
     "data": {
      "image/png": "[encoded data removed]",
      "text/plain": [
       "<Figure size 432x288 with 1 Axes>"
      ]
     },
     "metadata": {
      "tags": []
     },
     "output_type": "display_data"
    }
   ],
   "source": [
    "nb_tests = 50\n",
    "iterations = np.zeros(nb_tests)\n",
    "\n",
    "for j in range(nb_tests):\n",
    "  X, _ = generator()\n",
    "  X_clusters, cost_list, C = cost_three_medians(X, epsilon = 10**(-6))\n",
    "  iterations[j] = len(cost_list)\n",
    "bins = np.arange(0, np.max(iterations) + 1.5) - 0.5\n",
    "plt.hist(iterations, bins)\n",
    "plt.title(\"Distribution of $T$\")\n",
    "plt.show()"
   ]
  },
  {
   "cell_type": "markdown",
   "metadata": {
    "colab_type": "text",
    "id": "cyx1m7SXDWRt"
   },
   "source": [
    "We can then see that it converges on average a bit faster with the medians than with the means."
   ]
  },
  {
   "cell_type": "markdown",
   "metadata": {
    "colab_type": "text",
    "id": "M2WdBrcHfYxQ"
   },
   "source": [
    "c) \n",
    "Let $c$ be the cost function such that $c(y) = \\sum_{k=1}^K c_k(y_k)$ where $c_k(y) = \\sum_{i \\in \\mathcal{C}_k} ||x_i-y_k||_1 = \\sum_{i \\in \\mathcal{C}_k} \\sum_{j\\in\\{1,...,n\\}} |x_{i,j}-y_{k,j}| = \\sum_{i \\in \\mathcal{C}_k} \\sum_{j\\in\\{1,...,n\\}, x_{i,j}\\neq y_{k,j}} |x_{i,j}-y_{k,j}|$ and $y = (y_1, y_2, ..., y_n) \\in \\mathbb{R}^n$ is the $K$-tuple of the $K$ centroids.\n",
    "\n",
    "Let's now show that when we $c$ is minimized over $\\mathbb{R}^n$, then $\\forall k, y_k$ is the median of the cluster $k$\n",
    "\n",
    "So, first, let's suppose that $c$ is minimized over $\\mathbb{R}^n$. We can calculate the subdifferential of $c$ the sum of the $K$ subdifferential of $c_k$ and we have:\n",
    "\n",
    "$\\partial c(y) = \\sum_{k=1}^K \\partial c_k(y_k)$\n",
    "\n",
    "But we know that \n",
    "$$sign(x)=\n",
    "    \\begin{cases}\n",
    "      \\{-1\\}, & \\text{if}\\ x<0 \\\\\n",
    "      [-1, 1], &\\text{if}\\ x = 0 \\\\\n",
    "      \\{1\\}, & \\text{if}\\ x>0\n",
    "    \\end{cases}\n",
    "    =    \\begin{cases}\n",
    "      \\{\\frac{x}{|x|}\\}, & \\text{if}\\ x \\neq 0 \\\\\n",
    "      [-1, 1], &\\text{otherwise}\\\n",
    "    \\end{cases}$$\n",
    "\n",
    "Therefore:\n",
    "\n",
    "$\\partial c(y) = \\sum_{k=1}^K  \\sum_{i \\in \\mathcal{C}_k} \\sum_{j\\in\\{1,...,n\\}, x_{i,j}\\neq y_{k,j}} sign(x_{i,j}-y_{k,j}) = \\sum_{k=1}^K  \\sum_{i \\in \\mathcal{C}_k} \\sum_{j\\in\\{1,...,n\\}, x_{i,j}\\neq y_{k,j}}  \\frac{x_{i,j}-y_{k,j}}{|x_{i,j}-y_{k,j}|}$\n",
    "\n",
    "But, according to **Fermat's rule**, $y$ is a minimizer of the convex function $c$ if and only if $0 \\in \\partial c(y)$.\n",
    "\n",
    "Yet, one solution for that problem would be to take for all $k, y_k$ as the median of the set $\\{x_i, i \\in C_k\\}$. Indeed, if for all $k$ and $j$, we have $y_{k,j}$ the median of the $j$-component of $C_k$, then $\\sum_{j\\in\\{1,...,n\\}, x_{i,j}\\neq y_{k,j}}  \\frac{x_{i,j}-y_{k,j}}{|x_{i,j}-y_{k,j}|} = 0$. \n",
    "\n",
    "Next, we get $\\sum_{k=1}^K  \\sum_{i \\in \\mathcal{C}_k} \\sum_{j\\in\\{1,...,n\\}, x_{i,j}\\neq y_{k,j}}  \\frac{x_{i,j}-y_{k,j}}{|x_{i,j}-y_{k,j}|} = 0$ and we get $0 \\in \\partial c(y)$. By an application of **Fermat's rule**, $y$, the $K$-tuple of the medians of the clusters is a minimizer of $c$."
   ]
  }
 ],
 "metadata": {
  "colab": {
   "collapsed_sections": [],
   "name": "TP_kMeans_ROUVET_LAKEHAL.ipynb",
   "provenance": []
  },
  "kernelspec": {
   "display_name": "Python 3",
   "language": "python",
   "name": "python3"
  },
  "language_info": {
   "codemirror_mode": {
    "name": "ipython",
    "version": 3
   },
   "file_extension": ".py",
   "mimetype": "text/x-python",
   "name": "python",
   "nbconvert_exporter": "python",
   "pygments_lexer": "ipython3",
   "version": "3.7.3"
  }
 },
 "nbformat": 4,
 "nbformat_minor": 1
}
